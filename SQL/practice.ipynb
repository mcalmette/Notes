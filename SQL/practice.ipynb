{
 "cells": [
  {
   "cell_type": "markdown",
   "metadata": {},
   "source": [
    "## Retrieving Data with SELECT\n",
    "Need to specify two prices of information to use a SELECT statement: what you want and where you want to select it from"
   ]
  },
  {
   "cell_type": "code",
   "execution_count": null,
   "metadata": {},
   "outputs": [],
   "source": [
    "SELECT prod_name\n",
    "FROM Products;"
   ]
  },
  {
   "cell_type": "markdown",
   "metadata": {},
   "source": [
    "Retrieving Multiple Columns"
   ]
  },
  {
   "cell_type": "code",
   "execution_count": null,
   "metadata": {},
   "outputs": [],
   "source": [
    "SELECT  prod_name\n",
    "        ,prod_id\n",
    "        ,prod_price\n",
    "FROM Products;"
   ]
  },
  {
   "cell_type": "markdown",
   "metadata": {},
   "source": [
    "Retrieving Multiple Columns Using a Wildcard\n",
    "Request all columns using the asterisk wildcard character instead of column names\n",
    "\n",
    "If you database is large, you might only want to get a sample of the data. To do this, put:  \n",
    "LIMIT _; "
   ]
  },
  {
   "cell_type": "markdown",
   "metadata": {},
   "source": [
    "## Creating Tables\n",
    "\n",
    "Tables make models and predictions. You can create dashboards, visualize data, and extract data.\n",
    "\n",
    "Every column is either null or not null. An error will be returned if one tries to submit a column with no value. Primary keys cannot be null."
   ]
  },
  {
   "cell_type": "code",
   "execution_count": null,
   "metadata": {},
   "outputs": [],
   "source": [
    "CREATE TABLE Shoes\n",
    "    (\n",
    "        ID  char(10)    PRIMARY KEY,\n",
    "        Brand char(10)  NOT NULL,\n",
    "        Price decimal(8,2) NOT NULL,\n",
    "        Desc    Varchar (750) NULL\n",
    "    );"
   ]
  },
  {
   "cell_type": "code",
   "execution_count": null,
   "metadata": {},
   "outputs": [],
   "source": [
    "INSERT INTO Shoes\n",
    "    (\n",
    "    ID,\n",
    "    Brand,\n",
    "    Desc,\n",
    "    etc.\n",
    "    )\n",
    "VALUES \n",
    "    (\n",
    "    '1232',\n",
    "    'Gucci',\n",
    "    NULL\n",
    "    );"
   ]
  },
  {
   "cell_type": "markdown",
   "metadata": {},
   "source": [
    "## Creating Temporary Tables\n",
    "\n",
    "Why create temp tables? They will be deleted when session is terminated. They are facter than creating a real table, and are useful for complex queries  "
   ]
  },
  {
   "cell_type": "code",
   "execution_count": null,
   "metadata": {},
   "outputs": [],
   "source": [
    "CREATE TEMPORARY TABLE Sandals As \n",
    "(\n",
    "    SELECT *\n",
    "    FROM shoes\n",
    "    WHERE shoe_type = 'sandals'\n",
    ")"
   ]
  },
  {
   "cell_type": "markdown",
   "metadata": {},
   "source": [
    "## Adding Comments to SQL\n",
    "\n",
    "Single line: - - \n",
    "\n",
    "Section: /*  */"
   ]
  },
  {
   "cell_type": "markdown",
   "metadata": {},
   "source": [
    "## Basics of filtering with SQL\n",
    "\n",
    "Why filter?\n",
    "- Be specific about the data you want to retrieve\n",
    "- Reduce the number of records you retrieve\n",
    "- Reduce the strain on the client application\n",
    "\n",
    "Use the Where clause after select and from.\n",
    "\n",
    "= -> Equal\n",
    "<> -> not equal\n",
    "\n",
    "BETWEEN -> Between a range\n",
    "ISNULL -> is null\n",
    "\n",
    "Can check for non-matches\n",
    "- example: WHERE ProductName <> 'Alice Mutton';"
   ]
  },
  {
   "cell_type": "markdown",
   "metadata": {},
   "source": [
    "Can also filter with a range of values\n",
    "\n",
    "Ex: WHERE UnitsInStock Between 15 AND 80;\n",
    "\n"
   ]
  },
  {
   "cell_type": "markdown",
   "metadata": {},
   "source": [
    "## Advanced Filtering IN, OR, and NOT\n",
    "\n",
    "Use these to filter data\n",
    "\n",
    "IN Operator\n",
    "- specifies a range of conditions\n",
    "- comma delimited list of values\n",
    "- enclosed in ()\n",
    "\n",
    "OR Operators\n",
    "- will not evaluate the second conditions in a where clause if the first condition is met\n",
    "- use for any rows matching the specific column\n",
    "\n",
    "In works the same as OR\n",
    "\n",
    "Benefits of IN\n",
    "- Long list of options\n",
    "- Executes faster\n",
    "- Don't have to worry about the order\n",
    "- Can contain another SELECT"
   ]
  },
  {
   "cell_type": "code",
   "execution_count": null,
   "metadata": {},
   "outputs": [],
   "source": [
    "SELECT \n",
    "ProductID,\n",
    "UnitPrice,\n",
    "SupplerID,\n",
    "From Products\n",
    "WHERE SupplierID IN (9,10,11);"
   ]
  },
  {
   "cell_type": "markdown",
   "metadata": {},
   "source": [
    "### OR with AND\n",
    "\n",
    "There is a difference between\n",
    "WHERE supplierID = 9 OR SupplierID = 11\n",
    "\n",
    "and \n",
    "\n",
    "WHERE (supplierID = 9 OR SupplierID = 11)\n",
    "\n",
    "\n",
    "Order of operations\n",
    "- can contain AND and OR Operators\n",
    "- SQL processes AND before OR\n",
    "- use ()\n",
    "\n",
    "\n",
    "## NOT Operator\n",
    "\n",
    "- Use to disclude specific values\n",
    "\n",
    "WHERE NOT City='London' AND NOT City='Seattle';"
   ]
  },
  {
   "cell_type": "markdown",
   "metadata": {},
   "source": [
    "## Using Wildcards in SQL\n",
    "\n",
    "- Special character used to match parts of a value\n",
    "- Search pattern made from literal text, wildcard character, or a combo\n",
    "- Uses LIKE as an operator (though technically a predicate)\n",
    "- Can only be used with strings\n",
    "- Cannot be used for non-text data types\n",
    "- Helpful to explore string variables\n",
    "\n",
    "Use % before, after, or both\n",
    "\n",
    "'%Pizza' - grabs anything ending with the word pizza\n",
    "'Pizza%' - grabs anything after the word pizza\n",
    "'%Pizza%' - grabs anything before and after the word pizza\n",
    "\n",
    "'S%E' - grabs anything that starts with S and ends with E\n",
    "'t%@gmail.com' - grabs gmail addresses that start with \"t\" (hoping to get emails that start with a t like Tom)\n",
    "\n",
    "% wildcard will not match Nulls\n",
    "\n",
    "\n",
    "### Underscore (_) Wildcard\n",
    "- Matches a single character\n",
    "- Is not supported by DB2\n",
    "\n",
    "WHERE size LIKE'_pizza'\n",
    "\n",
    "Bracket Wildcard\n",
    "- Used to specify a set of characters in a specific location\n",
    "- Does not work with all DBMS\n",
    "- Does not work with SQLite\n",
    "\n",
    "Downsides of Wildcards\n",
    "- Takes longer to run\n",
    "- Better to use another operator if possible\n",
    "- Statements with wildcards will take longer to run if used at the end of search patterns\n",
    "- Placement of wildcards is important"
   ]
  },
  {
   "cell_type": "markdown",
   "metadata": {},
   "source": [
    "## Sorting with ORDER BY\n",
    "\n",
    "- Data displayed appears in the order of the underlying tables\n",
    "- Updated and deleted data can change this order\n",
    "- Sequence of retrieved data cannot be assumed if order was not specified\n",
    "- Cannot see all values\n",
    "\n",
    "SELECT something\n",
    "FROM database\n",
    "ORDER BY characteristic\n",
    "\n",
    "### Rules for ORDER BY\n",
    "- Takes the name of one or more columns\n",
    "- Add a comma after each additional column name\n",
    "- Can sort by a column not retrieved\n",
    "- Must always be the last clause in a SELECT statement\n",
    "\n",
    "Sorting by Column Position\n",
    "\n",
    "ORDER BY 2,3\n",
    "2 means 2nd column, 3 means 3rd column\n",
    "\n",
    "Sort Direction\n",
    "- DESC descending Order\n",
    "- ASC ascending order\n",
    "Only applies to the column names it directly precedes"
   ]
  },
  {
   "cell_type": "markdown",
   "metadata": {},
   "source": [
    "## Math Operators\n",
    "\n",
    "Addition, Subtraction, Multiplication, Division\n",
    "\n",
    "Order of Operations: Follows PEMDAS"
   ]
  },
  {
   "cell_type": "code",
   "execution_count": null,
   "metadata": {},
   "outputs": [],
   "source": [
    "SELECT\n",
    "ProductID,\n",
    "UnitsOnOrder,\n",
    "UnitPrice,\n",
    "UnitsOnOrder * UnitPrice AS Total_Order_Cost\n",
    "FROM Products "
   ]
  },
  {
   "cell_type": "markdown",
   "metadata": {},
   "source": [
    "## Aggregate Functions\n",
    "\n",
    "- Provide ways to summarize data\n",
    "- Used to summarize data\n",
    "- Finding the highest and lowest values\n",
    "- Finding the total number of rows\n",
    "- Finding the average\n",
    "\n",
    "- AVG()\n",
    "- COUNT()\n",
    "- MIN()\n",
    "- MAX()\n",
    "- SUM()\n",
    "\n",
    "- COUNT(*) Count gets all the rows in a table containing values or Null\n",
    "- Count(column) - counts all the rows in a specific column ignoring NULL values"
   ]
  },
  {
   "cell_type": "code",
   "execution_count": null,
   "metadata": {},
   "outputs": [],
   "source": [
    "SELECT AVG(UnitPrice) AS avg_price\n",
    "FROM products\n",
    "\n",
    "SELECT COUNT(*) AS \n",
    "total_customer\n",
    "FROM customer\n",
    "\n",
    "SELECT COUNT(customerID) AS \n",
    "total_customer\n",
    "FROM total_customer\n",
    "\n",
    "\n",
    "SELECT MAX(UnitPrice) AS max_prod_price\n",
    "FROM Products\n",
    "\n",
    "\n",
    "SELECT MAX(UnitPrice) AS max_prod_price\n",
    ",MIN(UnitPrice) AS max_prod_price\n",
    "FROM Products"
   ]
  },
  {
   "cell_type": "markdown",
   "metadata": {},
   "source": [
    "## Grouping Data with SQL\n",
    "\n",
    "Grouping Example: Counts customers after group on region rather than counting the whole table\n",
    "\n",
    "GROUP BY clauses can contain multiple columns\n",
    "\n",
    "Every column in your SELECT statment must be present in a GROUP BY clause except for aggregated calculations\n",
    "\n",
    "NULLs will be grouped together if your GROUP BY column contains NULLs"
   ]
  },
  {
   "cell_type": "code",
   "execution_count": null,
   "metadata": {},
   "outputs": [],
   "source": [
    "SELECT \n",
    "Region\n",
    ",COUNT(CustomerID) AS total_customers\n",
    "FROM Customer \n",
    "GROUP BY Region;"
   ]
  },
  {
   "cell_type": "markdown",
   "metadata": {},
   "source": [
    "HAVING Clause - Filtering for Groups\n",
    "- Where does not work for groups\n",
    "- WHERE filters on rows\n",
    "- Instead use HAVING clause to filter for groups"
   ]
  },
  {
   "cell_type": "code",
   "execution_count": null,
   "metadata": {},
   "outputs": [],
   "source": [
    "SELECT \n",
    "CUSTOMERID \n",
    ", COUNT (*) AS orders\n",
    "FROM Orders\n",
    "GROUP BY CustomerID \n",
    "HAVING COUNT (*) >= 2"
   ]
  },
  {
   "cell_type": "markdown",
   "metadata": {},
   "source": [
    "- WHERE Filters before data is grouped\n",
    "- HAVING filters after data is grouped\n",
    "- Rows eliminated by the WHERE clause will not be a included in the group\n",
    "\n",
    "ORDER BY with GROUP BY\n",
    "\n",
    "- ORDER BY sorts data\n",
    "- GROUP BY does not sort data"
   ]
  },
  {
   "cell_type": "code",
   "execution_count": null,
   "metadata": {},
   "outputs": [],
   "source": [
    "SELECT SupplierID\n",
    ",COUNT(*) AS Num_Prod\n",
    "FROM Products\n",
    "WHERE UnitPrice >= 4\n",
    "GROUP BY SupllierID\n",
    "HAVING COUNT (*) >= 2;"
   ]
  },
  {
   "cell_type": "markdown",
   "metadata": {},
   "source": [
    "## Filtering is useful\n",
    "\n",
    "- Narrowing down your results\n",
    "- Increasing query and application performance\n",
    "- Understanding your data\n",
    "\n",
    "\n",
    "- KEY SQL Clauses:\n",
    "- SELECT, columns or expressions to be returned\n",
    "- FROM, table from which to retrieve data\n",
    "- WHERE, row level filtering\n",
    "- GROUPBY, group specification\n",
    "- HAVING, group level filter\n",
    "- ORDER BY, output sort order"
   ]
  },
  {
   "cell_type": "code",
   "execution_count": null,
   "metadata": {},
   "outputs": [],
   "source": [
    "SELECT\n",
    "distinct Extended_step\n",
    "FROM salary_range_by_job_classification\n",
    "\n",
    "Select \n",
    "min(Biweekly_high_Rate)\n",
    "From salary_range_by_job_classification\n",
    "WHERE NOT Biweekly_high_Rate = \"$0.00\"\n",
    "\n",
    "Select\n",
    "job_code,\n",
    "pay_type\n",
    "From salary_range_by_job_classification\n",
    "WHERE job_code LIKE '03%'\n",
    "\n",
    "\n",
    "SELECT \n",
    "Job_Code,\n",
    "Step\n",
    "FROM salary_range_by_job_classification\n",
    "ORDER BY Job_Code ASC\n",
    "\n",
    "\n",
    "SELECT\n",
    "Job_Code,\n",
    "Biweekly_High_Rate,\n",
    "Biweekly_Low_Rate,\n",
    "Biweekly_High_Rate - Biweekly_Low_Rate AS Diff\n",
    "FROM salary_range_by_job_classification\n",
    "WHERE Job_Code = '0170'"
   ]
  },
  {
   "cell_type": "markdown",
   "metadata": {},
   "source": [
    "Module 2 Test"
   ]
  },
  {
   "cell_type": "code",
   "execution_count": null,
   "metadata": {},
   "outputs": [],
   "source": [
    "SELECT\n",
    "Name,\n",
    "Milliseconds\n",
    "FROM Tracks\n",
    "WHERE Milliseconds >= 4999999\n",
    "\n",
    "SELECT \n",
    "InvoiceId,\n",
    "Total\n",
    "FROM Invoices \n",
    "WHERE Total BETWEEN 4.99 AND 15.01;\n",
    "\n",
    "\n",
    "SELECT\n",
    "FirstName,\n",
    "LastName,\n",
    "Company\n",
    "FROM Customers\n",
    "WHERE State IN (\"RJ\",\"DF\",\"AB\",\"BC\",\"CA\",\"WA\",\"NY\")\n",
    "\n",
    "\n",
    "SELECT \n",
    "InvoiceID,\n",
    "CustomerID,\n",
    "InvoiceDate,\n",
    "Total\n",
    "FROM Invoices\n",
    "WHERE Total BETWEEN 1.00 AND 5.00\n",
    "AND CustomerID IN (56,58)\n",
    "\n",
    "\n",
    "SELECT \n",
    "Name\n",
    "FROM Tracks\n",
    "WHERE name LIKE 'All%'\n",
    "\n",
    "\n",
    "SELECT\n",
    "Email\n",
    "FROM Customers\n",
    "WHERE Email LIKE 'j%@gmail.com'\n",
    "\n",
    "\n",
    "SELECT\n",
    "InvoiceID,\n",
    "BillingCity,\n",
    "Total\n",
    "FROM Invoices\n",
    "WHERE BillingCity IN (\"Brasília\",\"Edmonton\",\"Vancouver\")\n",
    "ORDER BY InvoiceID DESC\n",
    "\n",
    "\n",
    "SELECT \n",
    "distinct CustomerID,\n",
    "COUNT(CustomerID) as \"Num\"\n",
    "FROM Invoices\n",
    "GROUP BY CustomerID\n",
    "\n",
    "SELECT \n",
    "AlbumID,\n",
    "COUNT(AlbumID) AS Num_Songs\n",
    "FROM Tracks\n",
    "GROUP BY AlbumID\n",
    "HAVING Num_Songs >= 12"
   ]
  },
  {
   "cell_type": "markdown",
   "metadata": {},
   "source": [
    "## Using Subqueries\n",
    "\n",
    "What are Subqueries?\n",
    "- Queries embedded into other queries\n",
    "- Relational databases store data in multiple tables\n",
    "- Subqueries merge data from multiple sources together\n",
    "- Helps with adding other filtering criteria\n",
    "\n",
    "Can select specific records or columns and then use that criteria as a filtering criteria for the next thing they want to select\n",
    "\n",
    "Combined for a subquery\n",
    "- Need to know the region each customer is from who has had an order with freight over 100"
   ]
  },
  {
   "cell_type": "code",
   "execution_count": null,
   "metadata": {},
   "outputs": [],
   "source": [
    "SELECT \n",
    "CustomerID,\n",
    "CompanyName,\n",
    "Region\n",
    "FROM Customers \n",
    "WHERE customerID IN (SELECT customerID\n",
    "                        FROM Orders \n",
    "                        WHERE Freight > 100)"
   ]
  },
  {
   "cell_type": "markdown",
   "metadata": {},
   "source": [
    "In the above example, it always performs the innermost SELECT portion first.\n",
    "\n",
    "DBMS is performing two operations:\n",
    "1. Getting the order numbers for the product selected\n",
    "2. Adding that to the WHERE Clause and processing the overall SELECT statement"
   ]
  },
  {
   "cell_type": "markdown",
   "metadata": {},
   "source": [
    "## Subquery best practices and considerations\n",
    "\n",
    "- There is no limit to the number of subqueries you can have\n",
    "- Performance slows when you nest too deeply\n",
    "- Subquery selects can only retrieve a single column\n",
    "\n",
    "Subquery in subquery\n",
    "1. Order Number for toothbrushes\n",
    "2. Customer ID's for those orders\n",
    "3. Customer information for those orders\n",
    "\n",
    "PoorSQL website - website will pre-format code"
   ]
  },
  {
   "cell_type": "code",
   "execution_count": null,
   "metadata": {},
   "outputs": [],
   "source": [
    "SELECT Customer_name, Customer_contact\n",
    "FROM Customers\n",
    "WHERE cust_id IN \n",
    "    SELECT customerID\n",
    "    FROM Orders\n",
    "    WHERE order_number IN (SELECT order_number \n",
    "        FROM OrderItems\n",
    "            WHERE prod_name = 'Toothbrush');"
   ]
  },
  {
   "cell_type": "markdown",
   "metadata": {},
   "source": [
    "## Subqueries for calculations\n",
    "\n",
    "Total number of orders placed by every customer:"
   ]
  },
  {
   "cell_type": "code",
   "execution_count": null,
   "metadata": {},
   "outputs": [],
   "source": [
    "SELECT customer_name,\n",
    "        customer_state\n",
    "        (SELECT COUNT (*) AS orders \n",
    "        FROM Orders \n",
    "        WHERE Orders.customer_id =\n",
    "    Customer.customer_id) AS orders\n",
    "    FROM customers\n",
    "    ORDER BY Customer_name"
   ]
  },
  {
   "cell_type": "markdown",
   "metadata": {},
   "source": [
    "## Joining Tables: An Introduction\n",
    "\n",
    "Benefits of breaking data into tables\n",
    "- Efficient storage\n",
    "- Easier manipulation\n",
    "- Greater scalability\n",
    "- Logically models a process\n",
    "- Tables are related through common values (keys)\n",
    "\n",
    "### Joins\n",
    "- Associate correct records from each table on the fly\n",
    "- Allows data retrieval from multiple tables in one query\n",
    "- Joins are not physical - they persist for the duration of the query execution\n",
    "\n",
    "### Cartesian (Cross) Joins\n",
    "\n",
    "- CROSS Joins: each row from the first table joins with all the rows of another table\n",
    "- Not frequently used\n",
    "- Computationally taxing\n",
    "- Will return products with the incorrect vendor or no vendor at all"
   ]
  },
  {
   "cell_type": "code",
   "execution_count": null,
   "metadata": {},
   "outputs": [],
   "source": [
    "/*Cross Join example*/\n",
    "SELECT product_name,\n",
    "unit_price,\n",
    "company_name,\n",
    "FROM suppliers CROSS JOIN products;\n",
    "/*Output will be the number of joins in the first table multiplied by the number of rows in the second table*/"
   ]
  },
  {
   "cell_type": "markdown",
   "metadata": {},
   "source": [
    "### Inner Joins\n",
    "The INNER JOIN keyword selects records that have matching values in both tables"
   ]
  },
  {
   "cell_type": "code",
   "execution_count": null,
   "metadata": {},
   "outputs": [],
   "source": [
    "SELECT supplier.CompanyName,\n",
    "ProductName,\n",
    "UnitPrice,\n",
    "FROM Supplier INNER JOIN Products \n",
    "ON Suppliers.supplierid = Products.supplierid "
   ]
  },
  {
   "cell_type": "markdown",
   "metadata": {},
   "source": [
    "### INNER Join Syntax\n",
    "- Join type is specified (INNER JOIN)\n",
    "- Join condition is in the FROM clause and uses the ON clause\n",
    "- Joining more tables together affects overall database performance\n",
    "- You can join multiple tables, no limit\n",
    "- List all the tables, then define conditions"
   ]
  },
  {
   "cell_type": "code",
   "execution_count": null,
   "metadata": {},
   "outputs": [],
   "source": [
    "SELECT o.OrderID, c.CompanyName, e.LastName\n",
    "FROM ((Orders o INNER JOIN Customers c ON o.CustomerID = c.CustomerID)\n",
    "INNER JOIN Employees e on o.EmployeeID = e.EmployeeID);"
   ]
  },
  {
   "cell_type": "markdown",
   "metadata": {},
   "source": [
    "## Aliases and Self Joins\n",
    "\n",
    "- SQL aliases give a table or a column a temporary name\n",
    "- Make column names more readable\n",
    "- An alias only exists for the duration of the query"
   ]
  },
  {
   "cell_type": "code",
   "execution_count": null,
   "metadata": {},
   "outputs": [],
   "source": [
    "SELECT vendor_name,\n",
    "produce_name,\n",
    "product_price\n",
    "FROM Vendors AS v, Products as p \n",
    "WHERE v.vendor_id = p.vendor_id;"
   ]
  },
  {
   "cell_type": "markdown",
   "metadata": {},
   "source": [
    "## Self Joins\n",
    "- Match customers from the same city\n",
    "- Take the table and treat it like two separate tables\n",
    "- Join the original table to itself"
   ]
  },
  {
   "cell_type": "code",
   "execution_count": null,
   "metadata": {},
   "outputs": [],
   "source": [
    "SELECT A.CustomerName AS \n",
    "CustomerName1, B.CustomerName AS \n",
    "CustomerName2, A.City\n",
    "FROM Customers A, Customers B\n",
    "WHERE A.CustomerID = B.CustomerID \n",
    "AND A.City = B.City\n",
    "ORDER BY A.City;"
   ]
  },
  {
   "cell_type": "markdown",
   "metadata": {},
   "source": [
    "## Advanced Joins: Left, Right, and Full Outer Joins\n",
    "\n",
    "SQL Lite only does Left Joins\n",
    "Other database management systems use all joins\n",
    "\n",
    "Left Join \n",
    "- Returns all records from the left table and the matched records from the right side\n",
    "- The result is NULL from the right side if there is no match\n",
    "\n",
    "\n",
    "Right Join\n",
    "- Returns all records from the right table (Table2) and the matched records from the left table (table 1)\n",
    "- The result is NULL from the left side if there is no match\n",
    "\n",
    "The table you list first is acted upon by the type of join you use\n",
    "\n",
    "Full outer join\n",
    "- Return all records when there is a match in either left (table1) or right (table2) table records"
   ]
  },
  {
   "cell_type": "code",
   "execution_count": null,
   "metadata": {},
   "outputs": [],
   "source": [
    "SELECT C.CustomerName, O.OrderID\n",
    "FROM Customers c \n",
    "LEFT JOIN Orders O ON C.CustomerID = O.CustomerID \n",
    "ORDER BY C.CustomerName"
   ]
  },
  {
   "cell_type": "code",
   "execution_count": null,
   "metadata": {},
   "outputs": [],
   "source": [
    "SELECT Orders.OrderID \n",
    "Employees.LastName,\n",
    "Employees.FirstName\n",
    "\n",
    "FROM Orders \n",
    "\n",
    "RIGHT JOIN Employees ON Orders.EmployeeID = Employees.EmployeeID\n",
    "ORDER BY Orders.OrderID"
   ]
  },
  {
   "cell_type": "code",
   "execution_count": null,
   "metadata": {},
   "outputs": [],
   "source": [
    "SELECT Customers.CustomerName, Orders.OrderID \n",
    "FROM Customers \n",
    "FULL OUTER JOIN Orders ON Customers.CustomerID = Orders.CustomerID \n",
    "ORDER BY Customers.CustomerName; "
   ]
  },
  {
   "cell_type": "markdown",
   "metadata": {},
   "source": [
    "## Unions \n",
    "\n",
    "- The UNION operator is used to combine the result-set of two or more SELECT statements.\n",
    "- Each SELECT statment within UNION must have the same number of columns\n",
    "- Columns must have similar data types\n",
    "- The columns in each SELECT statement must be in the same order"
   ]
  },
  {
   "cell_type": "code",
   "execution_count": null,
   "metadata": {},
   "outputs": [],
   "source": [
    "SELECT column_name(s) FROM Table 1\n",
    "UNION \n",
    "SELECT column_name(s) FROM Table 2"
   ]
  },
  {
   "cell_type": "code",
   "execution_count": null,
   "metadata": {},
   "outputs": [],
   "source": [
    "SELECT City, Country FROM Customers \n",
    "WHERE Country='Germany'\n",
    "UNION\n",
    "SELECT City, Country FROM Suppliers\n",
    "WHERE Country = 'Germany'\n",
    "ORDER BY City;"
   ]
  },
  {
   "cell_type": "markdown",
   "metadata": {},
   "source": [
    "Practice Test"
   ]
  },
  {
   "cell_type": "code",
   "execution_count": null,
   "metadata": {},
   "outputs": [],
   "source": [
    "SELECT artists.ArtistID, artists.Name, albums.Title, albums.AlbumID\n",
    "FROM artists\n",
    "INNER JOIN albums ON artists.ArtistID=albums.ArtistID\n",
    "WHERE artists.Name = 'Led Zeppelin'\n",
    "\n",
    "\n",
    "SELECT tracks.Name, albums.ArtistID\n",
    "FROM albums\n",
    "INNER JOIN tracks ON albums.AlbumId=tracks.AlbumId\n",
    "WHERE albums.ArtistID = 8\n",
    "\n",
    "\n",
    "SELECT customers.CustomerID, invoices.InvoiceID, customers.FirstName, customers.LastName\n",
    "FROM customers\n",
    "INNER JOIN invoices ON customers.CustomerID=invoices.CustomerID\n",
    "/*WHERE InvoiceID IS NULL */\n",
    "\n",
    "\n",
    "SELECT albums.Title, albums.AlbumId, tracks.Name, tracks.UnitPrice\n",
    "FROM albums\n",
    "INNER JOIN tracks ON albums.AlbumId=tracks.AlbumId\n",
    "WHERE albums.Title=\"Big Ones\"\n",
    "\n",
    "SELECT InvoiceDate,BillingAddress\n",
    "FROM invoices\n",
    "CROSS JOIN invoice_items;"
   ]
  },
  {
   "cell_type": "markdown",
   "metadata": {},
   "source": [
    "### Best Practices using joins\n",
    "- It is easy to get results - you mist make sure they are the right results\n",
    "- Check the number of records\n",
    "- Check for duplicates\n",
    "- Check the number of records each time you make a new join\n",
    "- Are you getting the results you expected?\n",
    "- Start small: one table at a time"
   ]
  },
  {
   "cell_type": "code",
   "execution_count": null,
   "metadata": {},
   "outputs": [],
   "source": [
    "SELECT Albums.AlbumId, Albums.Title, Tracks.Name\n",
    "FROM Albums\n",
    "INNER JOIN Tracks ON Albums.AlbumId=Tracks.AlbumId\n",
    "WHERE Albums.Title = \"Californication\"\n",
    "\n",
    "SELECT FirstName, LastName, Email\n",
    "FROM Customers\n",
    "\n",
    "SELECT Albums.AlbumId, Albums.Title, Albums.ArtistId, Tracks.Name\n",
    "FROM Albums\n",
    "INNER JOIN Tracks ON Albums.AlbumId=Tracks.AlbumId\n",
    "WHERE Tracks.TrackId=12\n",
    "\n",
    "SELECT EmployeeId, FirstName, LastName, ReportsTo\n",
    "FROM Employees\n",
    "\n",
    "SELECT Artists.Name, Artists.ArtistId, Artists.Name, Albums.Title\n",
    "FROM Artists \n",
    "INNER JOIN Albums On Artists.ArtistId=Albums.ArtistId\n",
    "/*GROUP BY Albums.Title\n",
    "HAVING COUNT(Albums.Title) > 1*/\n",
    "\n",
    "SELECT Artists.ArtistId, Artists.Name, Albums.Title\n",
    "FROM Artists \n",
    "LEFT JOIN Albums On Artists.ArtistId=Albums.ArtistId\n",
    "WHERE Albums.AlbumId IS NULL\n",
    "GROUP BY Artists.Name\n",
    "Order BY COUNT(Artists.Name)\n",
    "\n",
    "\n",
    "SELECT C.City, \n",
    "        C.CustomerId, \n",
    "        C.FirstName\n",
    "FROM Customers as C\n",
    "JOIN Invoices i ON C.CustomerId=i.CustomerId \n",
    "WHERE C.City <> i.BillingCity;"
   ]
  },
  {
   "cell_type": "markdown",
   "metadata": {},
   "source": [
    "## Working with Text Strings\n",
    "\n",
    "- Retrieve the data in the format you need (Client vs. Server formatting)\n",
    "- Support Joins\n",
    "- String Functions:\n",
    "    - Concatenate\n",
    "    - Substring - returns the specified number of characters from a particular position of a given string - SUBSTR(string name, string position, number of characters to be returned)\n",
    "    - Trim - TRIM, RTRIM, LTRIM\n",
    "    - Upper \n",
    "    - Lower"
   ]
  },
  {
   "cell_type": "code",
   "execution_count": null,
   "metadata": {},
   "outputs": [],
   "source": [
    "SELECT \n",
    "CompanyName\n",
    ", ContactName,\n",
    ", CompanyName || '('|| ContactName||')'"
   ]
  },
  {
   "cell_type": "code",
   "execution_count": null,
   "metadata": {},
   "outputs": [],
   "source": [
    "SELECT TRIM(\"    You the best.    \") AS TrimmedString;"
   ]
  },
  {
   "cell_type": "code",
   "execution_count": null,
   "metadata": {},
   "outputs": [],
   "source": [
    "SELECT FIRST_NAME, \n",
    "SUBSTR (first_name,3,4)\n",
    "FROM employees\n",
    "WHERE department_id=100;"
   ]
  },
  {
   "cell_type": "code",
   "execution_count": null,
   "metadata": {},
   "outputs": [],
   "source": [
    "SELECT UPPER(column_name) FROM table_name;\n",
    "\n",
    "SELECT LOWER(column_name) FROM table_name;\n",
    "\n",
    "SELECT UCASE(column_name) FROM table_name;"
   ]
  },
  {
   "cell_type": "markdown",
   "metadata": {},
   "source": [
    "## Working with Date and Time strings\n",
    "\n",
    "- Dates are stored as datetype\n",
    "- Each DBMS uses it's own variety of datatypes\n",
    "- DATE: YYYY-MM-DD\n",
    "- DATETIME: YYYY-MM-DD HH:MI:SS\n",
    "- TIMESTAMPS: YYYY-MM-DD HH:MI:SS\n",
    "\n",
    "Modifiers\n",
    "- NNN days  start of year\n",
    "- NNN hours start of day\n",
    "- NNN minutes weekday N\n",
    "\n",
    "- STRFTIME extracts certain parts of a date and time string"
   ]
  },
  {
   "cell_type": "markdown",
   "metadata": {},
   "source": [
    "## Date and Time String Examples"
   ]
  },
  {
   "cell_type": "code",
   "execution_count": null,
   "metadata": {},
   "outputs": [],
   "source": [
    "SELECT Birthdate\n",
    ",STRFTIME('%Y', Birthdate) AS Year\n",
    ",STRFTIME('%m', Birthdate) AS Month\n",
    ",STRFTIME('%d', Birthdate) AS Day\n",
    "FROM employees"
   ]
  },
  {
   "cell_type": "markdown",
   "metadata": {},
   "source": [
    "### COMPUTE Current Date"
   ]
  },
  {
   "cell_type": "code",
   "execution_count": null,
   "metadata": {},
   "outputs": [],
   "source": [
    "SELECT DATE('now')\n",
    "\n",
    "SELECT STRFTIME('%Y %m %d', 'now')"
   ]
  },
  {
   "cell_type": "markdown",
   "metadata": {},
   "source": [
    "## Case Statments\n",
    "\n",
    "- Mimics if-then-else statement found in most programming languages\n",
    "- Can be used in SELECT, INSERT, UPDATE, and DELETE dtatments"
   ]
  },
  {
   "cell_type": "code",
   "execution_count": null,
   "metadata": {},
   "outputs": [],
   "source": [
    "CASE \n",
    "WHEN C1 THEN E1\n",
    "WHEN C2 THEN E2\n",
    "\n",
    "ELSE [result else]\n",
    "END"
   ]
  },
  {
   "cell_type": "code",
   "execution_count": null,
   "metadata": {},
   "outputs": [],
   "source": [
    "SELECT \n",
    "employeeid,\n",
    "firstname,\n",
    "lastname,\n",
    "city\n",
    "CASE City\n",
    "    WHEN 'Calgary' THEN 'Calgary'\n",
    "ELSE 'Other' \n",
    "    END calgary \n",
    "FROM Employees\n",
    "ORDER BY Lastname, Firstname"
   ]
  },
  {
   "cell_type": "markdown",
   "metadata": {},
   "source": [
    "## Search Case Statement"
   ]
  },
  {
   "cell_type": "code",
   "execution_count": null,
   "metadata": {},
   "outputs": [],
   "source": [
    "CASE WHEN Boolean_expression\n",
    "THEN result_expression [..n]\n",
    "[ ELSE else_result_expression ]\n",
    "END"
   ]
  },
  {
   "cell_type": "code",
   "execution_count": null,
   "metadata": {},
   "outputs": [],
   "source": [
    "SELECT \n",
    "trackid,\n",
    "name,\n",
    "bytes,\n",
    "CASE \n",
    "    WHEN bytes < 300000 THEN 'small'\n",
    "    WHEN bytes >= 300001 AND bytes <= 500000 THEN 'medium'\n",
    "    WHEN bytes >= 500001 THEN 'large'\n",
    "    ELSE 'Other'\n",
    "    END bytescategory\n",
    "FROM tracks;"
   ]
  },
  {
   "cell_type": "markdown",
   "metadata": {},
   "source": [
    "## Views\n",
    "\n",
    "- A stored query\n",
    "- Can add or remove columns without changing schema\n",
    "- Use it to encapsulate queries\n",
    "- The view will be removed after database connection has ended"
   ]
  },
  {
   "cell_type": "code",
   "execution_count": null,
   "metadata": {},
   "outputs": [],
   "source": [
    "CREATE [TEMP] VIEW [IF NOT EXISTS] \n",
    "view_name(column-name-list) \n",
    "AS \n",
    "select-statement;"
   ]
  },
  {
   "cell_type": "code",
   "execution_count": null,
   "metadata": {},
   "outputs": [],
   "source": [
    "CREATE VIEW my_view\n",
    "AS \n",
    "SELECT\n",
    "r.regiondescription\n",
    ", t.territorydescription\n",
    ", e.Lastname\n",
    ", e.Firstname\n",
    ", e.Hiredate\n",
    ", e.Reportsto\n",
    "FROM Region r\n",
    "INNER JOIN Territories t on r.regionid = t.regionid\n",
    "INNER JOIN Employeeterritories et on t.TerritoryID = et.TerritoryID\n",
    "INNER JOIN Employees e on et.employeeid = e.EmployeeID"
   ]
  },
  {
   "cell_type": "markdown",
   "metadata": {},
   "source": [
    "To actually view the data though:"
   ]
  },
  {
   "cell_type": "code",
   "execution_count": null,
   "metadata": {},
   "outputs": [],
   "source": [
    "SELECT *\n",
    "FROM my_view\n",
    "DROP VIEW my_view;"
   ]
  },
  {
   "cell_type": "markdown",
   "metadata": {},
   "source": [
    "Get a count of how many territories each employee has"
   ]
  },
  {
   "cell_type": "code",
   "execution_count": null,
   "metadata": {},
   "outputs": [],
   "source": [
    "SELECT count(territorydescription)\n",
    ", Lastname\n",
    ", Firstname\n",
    "FROM my_view\n",
    "GROUP BY Lastname, Firstname;"
   ]
  },
  {
   "cell_type": "markdown",
   "metadata": {},
   "source": [
    "## Data Governance and Profiling \n",
    "\n",
    "What is data profiling?\n",
    "- Looking at descriptive statistics or object data information - examining data for completeness and accuracy\n",
    "- Important to understand your data before you query it\n",
    "\n",
    "- Number of rows\n",
    "- Table size\n",
    "- When the object was last updated\n",
    "\n",
    "Column Data Profile\n",
    "- Column data type\n",
    "- Number of distinct values\n",
    "- Number of rows with NULL values\n",
    "- Descriptive statistics: maximum, average, and standard deviation for column values\n",
    "\n",
    "Governance Best Practices\n",
    "- Understand your read and write capabilities\n",
    "- Clean up your environments\n",
    "- Understand your promotion process"
   ]
  },
  {
   "cell_type": "markdown",
   "metadata": {},
   "source": [
    "## Using SQL for Data Science\n",
    "\n",
    "- Data understanding\n",
    "    - Most important step\n",
    "    - Understanding relationships in your data\n",
    "    - NULL values\n",
    "    - String values\n",
    "    - Dates and times\n",
    "- Business understanding\n",
    "    - Understanding where data joins are\n",
    "    - Differentiating integers from strings\n",
    "    - Investing time to understand your subject\n",
    "    - Hard to separate data and business understanding\n",
    "- Profiling\n",
    "    - Get into the details of your data\n",
    "    - Create a data model and map the fields and tables you need\n",
    "    - Consider joins and calculations\n",
    "    - Understand any data quality or format issues\n",
    "- Start with SELECT\n",
    "- TEST\n",
    "    - Don't wait to end to test queries \n",
    "    - Test after each join\n",
    "    - Start small and go step by step when troubleshooting a query\n",
    "- Format and Comment\n",
    "    - Use correct formatting and identation\n",
    "    - Comment strategically\n",
    "    - Clean code and comments help when you revisit or hand off code\n",
    "- Review\n",
    "    - Business riles\n",
    "    - Data changes\n",
    "    - Date indicators\n",
    "    - Work the problem from beginning to end\n",
    "\n",
    "Beware of the Unspoken Need - questions like which customers, what product, what is/should be excluded"
   ]
  },
  {
   "cell_type": "markdown",
   "metadata": {},
   "source": [
    "Module 4 Coding "
   ]
  },
  {
   "cell_type": "code",
   "execution_count": null,
   "metadata": {},
   "outputs": [],
   "source": [
    "SELECT CustomerId, \n",
    "FirstName, \n",
    "LastName, \n",
    "City, \n",
    "UPPER(City) || UPPER(Country)\n",
    "FROM Customers\n",
    "\n",
    "\n",
    "SELECT\n",
    "EmployeeId,\n",
    "FirstName,\n",
    "LastName, \n",
    "SUBSTR(FirstName,1,4),\n",
    "SUBSTR(LastName,1,2),\n",
    "LOWER (SUBSTR(FirstName,1,4) || SUBSTR(LastName,1,2))\n",
    "FROM Employees\n",
    "\n",
    "\n",
    "SELECT \n",
    "FirstName,\n",
    "LastName,\n",
    "HireDate,\n",
    "STRFTIME('%Y', HireDate) AS Year,\n",
    "STRFTIME('%Y', 'now') - STRFTIME('%Y', HireDate) AS Num_Years\n",
    "FROM Employees\n",
    "WHERE Num_Years >= 15\n",
    "ORDER BY LastName Asc\n",
    "\n",
    "\n",
    "SELECT count(*) FROM Customers WHERE PostalCode IS NULL \n",
    "UNION ALL\n",
    "SELECT count(*) FROM Customers WHERE PostalCode IS NOT NULL\n",
    "\n",
    "\n",
    "SELECT City, COUNT(*) \n",
    "FROM Customers\n",
    "GROUP BY City\n",
    "ORDER BY COUNT(*) DESC\n",
    "\n",
    "\n",
    "SELECT\n",
    "FirstName || LastName || I.InvoiceID AS NewID\n",
    "FROM Customers C\n",
    "INNER JOIN Invoices I ON C.CustomerId=I.CustomerId\n",
    "WHERE NewID LIKE 'AstridGruber%'"
   ]
  }
 ],
 "metadata": {
  "language_info": {
   "name": "python"
  },
  "orig_nbformat": 4
 },
 "nbformat": 4,
 "nbformat_minor": 2
}
